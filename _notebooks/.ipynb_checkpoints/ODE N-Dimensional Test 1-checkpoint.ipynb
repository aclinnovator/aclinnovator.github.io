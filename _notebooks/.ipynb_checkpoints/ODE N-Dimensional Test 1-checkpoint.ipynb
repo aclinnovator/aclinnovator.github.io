{
 "cells": [
  {
   "cell_type": "markdown",
   "metadata": {},
   "source": [
    "# Point Charge Dynamics\n",
    "## Akiva Lipshitz, February 2, 2017\n",
    "\n",
    "Particles and their dynamics are incredibly fascinating, even wondrous. Give me some particles and some simple equations describing their interactions – some very interesting things can start happening. \n",
    "\n",
    "Currently studying electrostatics in my physics class, I am interested in not only the static force and field distributions but also in the dynamics of particles in such fields. To study the dynamics of electric particles is not an easy endeavor – in fact the differential equations governing their dynamics are quite complex and not easily solved manually, especially by someone who lacks a background in differential equations. \n",
    "\n",
    "Instead of relying on our analytical abilities, we may rely on our computational abilities and numerically solve the differential equations. Herein I will develop a scheme for computing the dynamics of $n$ electric particles en masse. It will not be computationally easy – the number of operations grows proportionally to $n^2$. For less than $10^4$ you should be able to simulate the particle dynamics for long enough time intervals to be useful. But for something like $10^6$ particles the problem is intractable. You'll need to do more than $10^12$ operations per iteration and a degree in numerical analysis. \n",
    "\n",
    "\n",
    "\n",
    "## Governing Equations \n",
    "\n",
    "Given $n$ charges $q_1, q_2, ..., q_n$, with masses $m_1, m_2, ..., m_n$ located at positions $\\vec{r}_1, \\vec{r_2}, ..., \\vec{r}_n$, the force induced on $q_i$ by $q_j$ is given by \n",
    "\n",
    "$$\\vec{F}_{j \\to i} = k\\frac{q_iq_j}{\\left|\\vec{r}_i-\\vec{r}_j\\right|^2}\\hat{r}_{ij}$$\n",
    "\n",
    "where \n",
    "\n",
    "$$\\hat{r}_{ij} = \\vec{r}_i-\\vec{r}_j$$\n",
    "\n",
    "Now, the net *marginal* force on particle $q_i$ is given as the sum of the pairwise forces\n",
    "\n",
    "$$\\vec{F}_{N, i} = \\sum_{j \\ne i}{\\vec{F}_{j \\to i}}$$\n",
    "\n",
    "And then the net acceleration of particle $q_i$ just normalizes the force by the mass of the particle:\n",
    "\n",
    "$$\\vec{a}_i = \\frac{\\vec{F}_{N, i}}{m_i}$$\n",
    "\n",
    "To implement this at scale, we're going to need to figure out a scheme for vectorizing all these operations, demonstrated below. \n",
    "\n",
    "We'll be using `scipy.integrate.odeint` for our numerical integration. Below, the function `g(y, t, q, m, n, d, k)` is a function that returns the derivatives for all our variables at each iteration. We pass it to `odeint` and then do the integration. "
   ]
  },
  {
   "cell_type": "code",
   "execution_count": 114,
   "metadata": {
    "collapsed": false
   },
   "outputs": [],
   "source": [
    "import numpy as np\n",
    "import numpy.ma as ma\n",
    "from scipy.integrate import odeint\n",
    "mag = lambda r: np.sqrt(np.sum(np.power(r, 2)))\n",
    "\n",
    "def g(y, t, q, m, n,d, k):\n",
    "    \"\"\"\n",
    "    n: the number of particles\n",
    "    d: the number of dimensions \n",
    "      (for fun's sake I want this \n",
    "      to work for k-dimensional systems)\n",
    "    y: an (n*2,d) dimensional matrix \n",
    "        where y[:n]_i is the position\n",
    "        of the ith particle and\n",
    "        y[n:]_i is the velocity of \n",
    "        the ith particle\n",
    "    qs: the particle charges\n",
    "    ms: the particle masses\n",
    "    k: the electric constant\n",
    "    t: the current timestamp\n",
    "    \"\"\"\n",
    "    y = y.reshape((n*2,d))\n",
    "    v = np.array(y[n:])\n",
    "\n",
    "    # rj across, ri down\n",
    "    rs_from = np.tile(y[:n], (n,1,1))\n",
    "    \n",
    "    # ri across, rj down\n",
    "    rs_to = np.transpose(rs_from, axes=(1,0,2))\n",
    "\n",
    "    # directional distance between each r_i and r_j\n",
    "    # dr_ij is the force from j onto i, i.e. r_i - r_j\n",
    "    dr = rs_to - rs_from\n",
    "    \n",
    "    # Used as a mask\n",
    "    nd_identity = np.eye(n).reshape((n,n,1))\n",
    "    \n",
    "    # Force magnitudes\n",
    "    drmag = ma.array(\n",
    "        np.sqrt(\n",
    "            np.sum(\n",
    "                np.power(dr, 2), 2)), \n",
    "        mask=nd_identity)\n",
    "\n",
    "    # Pairwise q_i*q_j for force equation\n",
    "    qsa = np.tile(q, (n,1))\n",
    "    qsb = np.tile(q, (n,1)).T\n",
    "    qs = qsa*qsb\n",
    "    \n",
    "    # Directional forces\n",
    "    Fs = (1./np.power(drmag,2)).reshape((n,n,1))\n",
    "    \n",
    "    # Net Force\n",
    "    Fnet = np.sum(Fs, 1)\n",
    "    \n",
    "    # Dividing by m to obtain acceleration vectors\n",
    "    a = np.sum(Fnet*dr, 1)\n",
    "\n",
    "    # Sliding integrated acceleration\n",
    "    # (i.e. velocity from previous iteration)\n",
    "    # to the position derivative slot\n",
    "    y[:n] = np.array(y[n:])\n",
    "    \n",
    "    # Entering the acceleration into the velocity slot\n",
    "    y[n:] = np.array(a)\n",
    "    # Flattening it out for scipy.odeint to work\n",
    "    return y.reshape(n*d*2)"
   ]
  },
  {
   "cell_type": "markdown",
   "metadata": {},
   "source": [
    "Let's define our time intervals, so that odeint knows which time stamps to iterate over. "
   ]
  },
  {
   "cell_type": "code",
   "execution_count": 115,
   "metadata": {
    "collapsed": true
   },
   "outputs": [],
   "source": [
    "t_f = 10\n",
    "t = np.linspace(0, 20, num=t_f)"
   ]
  },
  {
   "cell_type": "markdown",
   "metadata": {},
   "source": [
    "Some other constants"
   ]
  },
  {
   "cell_type": "code",
   "execution_count": 116,
   "metadata": {
    "collapsed": true
   },
   "outputs": [],
   "source": [
    "# Number of dimensions\n",
    "d = 2\n",
    "# Number of point charges\n",
    "n = 3\n",
    "# charge magnitudes, currently all equal to 1\n",
    "q = np.ones(n)\n",
    "# masses\n",
    "m = np.ones(n)\n",
    "\n",
    "# The electric constant \n",
    "#    k=1/(4*pi*epsilon_naught)\n",
    "#    Right now we will set it to 1\n",
    "#    because for our tests we are choosing all q_i =1. \n",
    "#    Therefore, k*q is too large a number and causes \n",
    "#    roundoff errors in the integrator. \n",
    "# In truth:\n",
    "#    k = 8.99*10**9\n",
    "# But for now:\n",
    "k=1."
   ]
  },
  {
   "cell_type": "markdown",
   "metadata": {},
   "source": [
    "We get to choose the initial positions and velocities of our particles. For our initial tests, we'll set up 3 particles to collide with eachother. "
   ]
  },
  {
   "cell_type": "code",
   "execution_count": 117,
   "metadata": {
    "collapsed": true
   },
   "outputs": [],
   "source": [
    "\n",
    "r1i = np.array([-2., 0.5])\n",
    "dr1dti = np.array([2.,0.])\n",
    "\n",
    "r2i = np.array([30.,0.])\n",
    "dr2dti = np.array([-2., 0.])\n",
    "\n",
    "r3i = np.array([16.,16.])\n",
    "dr3dti = np.array([0, -2.])"
   ]
  },
  {
   "cell_type": "markdown",
   "metadata": {},
   "source": [
    "And pack them into an initial state variable we can pass to odeint. "
   ]
  },
  {
   "cell_type": "code",
   "execution_count": 118,
   "metadata": {
    "collapsed": true
   },
   "outputs": [],
   "source": [
    "y0 = np.array([r1i, r2i, r3i, dr1dti, dr2dti, dr3dti]).flatten()\n"
   ]
  },
  {
   "cell_type": "markdown",
   "metadata": {},
   "source": [
    "## The Fun Part – Doing the Integration\n",
    "\n",
    "Now, we'll actually do the integration"
   ]
  },
  {
   "cell_type": "code",
   "execution_count": 119,
   "metadata": {
    "collapsed": false
   },
   "outputs": [
    {
     "name": "stderr",
     "output_type": "stream",
     "text": [
      "/Library/Python/2.7/site-packages/ipykernel/__main__.py:51: RuntimeWarning: divide by zero encountered in divide\n"
     ]
    }
   ],
   "source": [
    "# Doing the integration\n",
    "yf = odeint(g, y0, t, args=(q,m,n,d,k)).reshape(t_f,n*2,d)"
   ]
  },
  {
   "cell_type": "code",
   "execution_count": 120,
   "metadata": {
    "collapsed": false
   },
   "outputs": [
    {
     "data": {
      "image/png": "[encoded data removed]",
      "text/plain": [
       "<matplotlib.figure.Figure at 0x116d64950>"
      ]
     },
     "metadata": {},
     "output_type": "display_data"
    }
   ],
   "source": [
    "%matplotlib inline\n",
    "import matplotlib.pyplot as plt\n",
    "from mpl_toolkits.mplot3d import Axes3D\n",
    "\n",
    "fig = plt.figure()\n",
    "#ax = fig.add_subplot(111, projection='3d')\n",
    "ax = fig.add_subplot(111)\n",
    "ys1 = yf[:,0,1]\n",
    "xs1 = yf[:,0,0]\n",
    "\n",
    "xs2 = yf[:,1,0]\n",
    "ys2 = yf[:,1,1]\n",
    "\n",
    "xs3 = yf[:,2,0]\n",
    "ys3 = yf[:,2,1]\n",
    "\n",
    "ax.plot(xs1[:1], ys1[:1],'bv')     \n",
    "ax.plot(xs1[-1:], ys1[-1:], 'rv') \n",
    "ax.plot(xs2[:1], ys2[:1], 'bv')    \n",
    "ax.plot(xs2[-1:], ys2[-1:], 'rv') \n",
    "ax.plot(xs3[:1], ys3[:1], 'bv')    \n",
    "ax.plot(xs3[-1:], ys3[-1:], 'rv') \n",
    "\n",
    "# minx = np.min(y[:,[0,2],0]) \n",
    "# maxx = np.max(y[:,[0,2],0]) \n",
    "\n",
    "# miny = np.min(y[:,[0,2],1]) \n",
    "# maxy = np.max(y[:,[0,2],1])\n",
    "                                         \n",
    "ax.plot(xs1, ys1)                      \n",
    "ax.plot(xs2, ys2)    \n",
    "ax.plot(xs3, ys3)                      \n",
    "\n",
    "\n",
    "# plt.xlim(xmin=minx, xmax=maxx)\n",
    "# plt.ylim(ymin=miny, ymax=maxy)\n",
    "\n",
    "plt.title(\"Paths of 3 Colliding Electric Particles\")\n",
    "plt.show()\n"
   ]
  },
  {
   "cell_type": "code",
   "execution_count": null,
   "metadata": {
    "collapsed": true
   },
   "outputs": [],
   "source": []
  }
 ],
 "metadata": {
  "kernelspec": {
   "display_name": "Python 2",
   "language": "python",
   "name": "python2"
  },
  "language_info": {
   "codemirror_mode": {
    "name": "ipython",
    "version": 2
   },
   "file_extension": ".py",
   "mimetype": "text/x-python",
   "name": "python",
   "nbconvert_exporter": "python",
   "pygments_lexer": "ipython2",
   "version": "2.7.10"
  }
 },
 "nbformat": 4,
 "nbformat_minor": 2
}
