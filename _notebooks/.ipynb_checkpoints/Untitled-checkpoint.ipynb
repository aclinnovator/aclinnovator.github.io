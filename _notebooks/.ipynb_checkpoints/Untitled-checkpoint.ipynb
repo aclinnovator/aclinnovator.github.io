{
 "cells": [
  {
   "cell_type": "code",
   "execution_count": 28,
   "metadata": {
    "collapsed": false
   },
   "outputs": [
    {
     "ename": "ValueError",
     "evalue": "total size of new array must be unchanged",
     "output_type": "error",
     "traceback": [
      "\u001b[0;31m---------------------------------------------------------------------------\u001b[0m",
      "\u001b[0;31mValueError\u001b[0m                                Traceback (most recent call last)",
      "\u001b[0;32m<ipython-input-28-9e2cbc5ff98d>\u001b[0m in \u001b[0;36m<module>\u001b[0;34m()\u001b[0m\n\u001b[1;32m     48\u001b[0m \u001b[0;31m# We are keeping the constants to be 1 because I am lazy\u001b[0m\u001b[0;34m\u001b[0m\u001b[0;34m\u001b[0m\u001b[0m\n\u001b[1;32m     49\u001b[0m \u001b[0;31m# the qualitative behavior doesn't change\u001b[0m\u001b[0;34m\u001b[0m\u001b[0;34m\u001b[0m\u001b[0m\n\u001b[0;32m---> 50\u001b[0;31m \u001b[0my\u001b[0m \u001b[0;34m=\u001b[0m \u001b[0modeint\u001b[0m\u001b[0;34m(\u001b[0m\u001b[0mg\u001b[0m\u001b[0;34m,\u001b[0m \u001b[0my0\u001b[0m\u001b[0;34m,\u001b[0m \u001b[0mt\u001b[0m\u001b[0;34m,\u001b[0m \u001b[0margs\u001b[0m\u001b[0;34m=\u001b[0m\u001b[0;34m(\u001b[0m\u001b[0;36m1\u001b[0m\u001b[0;34m,\u001b[0m\u001b[0;36m1\u001b[0m\u001b[0;34m,\u001b[0m\u001b[0;36m1\u001b[0m\u001b[0;34m,\u001b[0m\u001b[0;36m1\u001b[0m\u001b[0;34m)\u001b[0m\u001b[0;34m)\u001b[0m\u001b[0;34m.\u001b[0m\u001b[0mreshape\u001b[0m\u001b[0;34m(\u001b[0m\u001b[0;36m10000\u001b[0m\u001b[0;34m,\u001b[0m\u001b[0;36m4\u001b[0m\u001b[0;34m,\u001b[0m\u001b[0;36m2\u001b[0m\u001b[0;34m)\u001b[0m\u001b[0;34m\u001b[0m\u001b[0m\n\u001b[0m\u001b[1;32m     51\u001b[0m \u001b[0;34m\u001b[0m\u001b[0m\n\u001b[1;32m     52\u001b[0m \u001b[0;32mimport\u001b[0m \u001b[0mmatplotlib\u001b[0m\u001b[0;34m.\u001b[0m\u001b[0mpyplot\u001b[0m \u001b[0;32mas\u001b[0m \u001b[0mplt\u001b[0m\u001b[0;34m\u001b[0m\u001b[0m\n",
      "\u001b[0;32m/Library/Python/2.7/site-packages/scipy/integrate/odepack.pyc\u001b[0m in \u001b[0;36modeint\u001b[0;34m(func, y0, t, args, Dfun, col_deriv, full_output, ml, mu, rtol, atol, tcrit, h0, hmax, hmin, ixpr, mxstep, mxhnil, mxordn, mxords, printmessg)\u001b[0m\n\u001b[1;32m    213\u001b[0m     output = _odepack.odeint(func, y0, t, args, Dfun, col_deriv, ml, mu,\n\u001b[1;32m    214\u001b[0m                              \u001b[0mfull_output\u001b[0m\u001b[0;34m,\u001b[0m \u001b[0mrtol\u001b[0m\u001b[0;34m,\u001b[0m \u001b[0matol\u001b[0m\u001b[0;34m,\u001b[0m \u001b[0mtcrit\u001b[0m\u001b[0;34m,\u001b[0m \u001b[0mh0\u001b[0m\u001b[0;34m,\u001b[0m \u001b[0mhmax\u001b[0m\u001b[0;34m,\u001b[0m \u001b[0mhmin\u001b[0m\u001b[0;34m,\u001b[0m\u001b[0;34m\u001b[0m\u001b[0m\n\u001b[0;32m--> 215\u001b[0;31m                              ixpr, mxstep, mxhnil, mxordn, mxords)\n\u001b[0m\u001b[1;32m    216\u001b[0m     \u001b[0;32mif\u001b[0m \u001b[0moutput\u001b[0m\u001b[0;34m[\u001b[0m\u001b[0;34m-\u001b[0m\u001b[0;36m1\u001b[0m\u001b[0;34m]\u001b[0m \u001b[0;34m<\u001b[0m \u001b[0;36m0\u001b[0m\u001b[0;34m:\u001b[0m\u001b[0;34m\u001b[0m\u001b[0m\n\u001b[1;32m    217\u001b[0m         \u001b[0mwarning_msg\u001b[0m \u001b[0;34m=\u001b[0m \u001b[0m_msgs\u001b[0m\u001b[0;34m[\u001b[0m\u001b[0moutput\u001b[0m\u001b[0;34m[\u001b[0m\u001b[0;34m-\u001b[0m\u001b[0;36m1\u001b[0m\u001b[0;34m]\u001b[0m\u001b[0;34m]\u001b[0m \u001b[0;34m+\u001b[0m \u001b[0;34m\" Run with full_output = 1 to get quantitative information.\"\u001b[0m\u001b[0;34m\u001b[0m\u001b[0m\n",
      "\u001b[0;32m<ipython-input-28-9e2cbc5ff98d>\u001b[0m in \u001b[0;36mg\u001b[0;34m(y, t, q, m, n, d)\u001b[0m\n\u001b[1;32m     15\u001b[0m     \u001b[0mt\u001b[0m\u001b[0;34m:\u001b[0m \u001b[0mthe\u001b[0m \u001b[0mcurrent\u001b[0m \u001b[0mtimestamp\u001b[0m\u001b[0;34m\u001b[0m\u001b[0m\n\u001b[1;32m     16\u001b[0m     \"\"\"\n\u001b[0;32m---> 17\u001b[0;31m     \u001b[0my\u001b[0m \u001b[0;34m=\u001b[0m \u001b[0my\u001b[0m\u001b[0;34m.\u001b[0m\u001b[0mreshape\u001b[0m\u001b[0;34m(\u001b[0m\u001b[0;34m(\u001b[0m\u001b[0mn\u001b[0m\u001b[0;34m*\u001b[0m\u001b[0;36m2\u001b[0m\u001b[0;34m,\u001b[0m\u001b[0md\u001b[0m\u001b[0;34m)\u001b[0m\u001b[0;34m)\u001b[0m\u001b[0;34m\u001b[0m\u001b[0m\n\u001b[0m\u001b[1;32m     18\u001b[0m     \u001b[0mv\u001b[0m \u001b[0;34m=\u001b[0m \u001b[0my\u001b[0m\u001b[0;34m[\u001b[0m\u001b[0mn\u001b[0m\u001b[0;34m:\u001b[0m\u001b[0;34m]\u001b[0m\u001b[0;34m\u001b[0m\u001b[0m\n\u001b[1;32m     19\u001b[0m \u001b[0;34m\u001b[0m\u001b[0m\n",
      "\u001b[0;31mValueError\u001b[0m: total size of new array must be unchanged"
     ]
    }
   ],
   "source": [
    "import numpy as np\n",
    "from scipy.integrate import odeint\n",
    "mag = lambda r: np.sqrt(np.sum(np.power(r, 2)))\n",
    "k = 8.99*10**9\n",
    "\n",
    "\n",
    "def g(y, t, q, m, n,d):\n",
    "    \"\"\"\n",
    "    n: the number of particles\n",
    "    d: the number of dimensions (for fun's sake I want this to work for k-dimensional systems)\n",
    "    y: an (n*2,d) dimensional matrix where y[:n]_i is the position of the ith particle and\n",
    "    y[n:]_i is the velocity of the ith particle\n",
    "    qs: the particle charges\n",
    "    ms: the particle masses\n",
    "    t: the current timestamp\n",
    "    \"\"\"\n",
    "    y = y.reshape((n*2,d))\n",
    "    v = y[n:]\n",
    "\n",
    "    rs_from = np.tile(y[:n], (n,1,1))\n",
    "    rs_to = np.transpose(rs, axes=(1,0,2))\n",
    "\n",
    "    dr = rs_to - rs_from\n",
    "    \n",
    "    drmag = np.sqrt(np.sum(np.power(dr, 2), 2))\n",
    "    \n",
    "    qs = np.tile(q, (n,1))*np.tile(q, (n,1)).T\n",
    "\n",
    "    Fs = (qs/rmag)*dr\n",
    "    Fnet = np.sum(Fs, 1)\n",
    "    a = Fnet/m\n",
    "    \n",
    "    y[:n] = y[n:]\n",
    "    y[n:] = a\n",
    " \n",
    "    return y\n",
    "\n",
    "t = np.linspace(0, 20, num=10000)\n",
    "r1i = np.array([-2., 0.5])\n",
    "dr1dti = np.array([2.,0.])\n",
    "\n",
    "r2i = np.array([30,0])\n",
    "dr2dti = np.array([-2, 0])\n",
    "\n",
    "\n",
    "y0 = np.array([r1i, dr1dti, r2i, dr2dti]).reshape(8)\n",
    "\n",
    "# We are keeping the constants to be 1 because I am lazy\n",
    "# the qualitative behavior doesn't change\n",
    "y = odeint(g, y0, t, args=(1,1,1,1)).reshape(10000,4,2)\n",
    "\n",
    "import matplotlib.pyplot as plt\n",
    "from mpl_toolkits.mplot3d import Axes3D\n",
    "\n",
    "fig = plt.figure()\n",
    "#ax = fig.add_subplot(111, projection='3d')\n",
    "ax = fig.add_subplot(111)\n",
    "ys1 = y[:,0,1]\n",
    "xs1 = y[:,0,0]\n",
    "\n",
    "xs2 = y[:,2,0]\n",
    "ys2 = y[:,2,1]\n",
    "\n",
    "\"\"\"\n",
    "ax.plot(xs1[:1], ys1[:1], t[:1],'bv')\n",
    "ax.plot(xs1[-1:], ys1[-1:], t[-1:], 'rv')\n",
    "ax.plot(xs2[:1], ys2[:1], t[:1], 'bv')\n",
    "ax.plot(xs2[-1:], ys2[-1:], t[-1:], 'rv')\n",
    "\n",
    "ax.plot(xs3[:1], ys3[:1], t[:1], 'bv')\n",
    "ax.plot(xs3[-1:], ys3[-1:], t[-1:], 'rv')\n",
    "\n",
    "ax.plot(xs1, ys1, t)\n",
    "ax.plot(xs2, ys2, t)\n",
    "ax.plot(xs3, ys3, t)\n",
    "\"\"\"\n",
    "\n",
    "\n",
    "\n",
    "ax.plot(xs1[:1], ys1[:1],'bv')     \n",
    "ax.plot(xs1[-1:], ys1[-1:], 'rv') \n",
    "ax.plot(xs2[:1], ys2[:1], 'bv')    \n",
    "ax.plot(xs2[-1:], ys2[-1:], 'rv') \n",
    "\n",
    "minx = np.min(y[:,[0,2],0]) - 40\n",
    "maxx = np.max(y[:,[0,2],0]) + 40\n",
    "\n",
    "miny = np.min(y[:,[0,2],1]) - 40\n",
    "maxy = np.max(y[:,[0,2],1]) + 40\n",
    "\n",
    "                                         \n",
    "ax.plot(xs1, ys1)                      \n",
    "ax.plot(xs2, ys2)                      \n",
    "\n",
    "plt.xlim(xmin=minx, xmax=maxx)\n",
    "plt.ylim(ymin=miny, ymax=maxy)\n",
    "plt.show()\n"
   ]
  },
  {
   "cell_type": "code",
   "execution_count": 75,
   "metadata": {
    "collapsed": false
   },
   "outputs": [
    {
     "data": {
      "text/plain": [
       "array([ 2. ,  3. , -4. , -4. , -8. ,  3. , -5. ,  0.2])"
      ]
     },
     "execution_count": 75,
     "metadata": {},
     "output_type": "execute_result"
    }
   ],
   "source": [
    "Y = np.array([\n",
    "        [2.,3.],[-4.,-4.], # First n are positions\n",
    "        [-8.,3.],[-5.,0.2] # Last n are velocities\n",
    "    ])\n",
    "\n",
    "y = Y.flatten()\n",
    "y"
   ]
  },
  {
   "cell_type": "code",
   "execution_count": 79,
   "metadata": {
    "collapsed": false
   },
   "outputs": [
    {
     "data": {
      "text/plain": [
       "array([[ True,  True],\n",
       "       [ True,  True],\n",
       "       [ True,  True],\n",
       "       [ True,  True]], dtype=bool)"
      ]
     },
     "execution_count": 79,
     "metadata": {},
     "output_type": "execute_result"
    }
   ],
   "source": [
    "n = 2\n",
    "d = 2\n",
    "y = y.reshape((n*2,d))\n",
    "y == Y"
   ]
  },
  {
   "cell_type": "code",
   "execution_count": 80,
   "metadata": {
    "collapsed": false
   },
   "outputs": [
    {
     "name": "stdout",
     "output_type": "stream",
     "text": [
      "Velocities\n",
      "[[-8.   3. ]\n",
      " [-5.   0.2]]\n",
      "Positions\n",
      "[[ 2.  3.]\n",
      " [-4. -4.]]\n"
     ]
    }
   ],
   "source": [
    "v = y[n:]\n",
    "r = y[:n]\n",
    "print \"Velocities\"\n",
    "print v\n",
    "print \"Positions\"\n",
    "print r"
   ]
  },
  {
   "cell_type": "code",
   "execution_count": 81,
   "metadata": {
    "collapsed": false
   },
   "outputs": [
    {
     "name": "stdout",
     "output_type": "stream",
     "text": [
      "From\n",
      "[[[ 2.  3.]\n",
      "  [-4. -4.]]\n",
      "\n",
      " [[ 2.  3.]\n",
      "  [-4. -4.]]]\n",
      "To\n",
      "[[[ 2.  3.]\n",
      "  [ 2.  3.]]\n",
      "\n",
      " [[-4. -4.]\n",
      "  [-4. -4.]]]\n",
      "Dr\n",
      "[[[ 0.  0.]\n",
      "  [ 6.  7.]]\n",
      "\n",
      " [[-6. -7.]\n",
      "  [ 0.  0.]]]\n"
     ]
    }
   ],
   "source": [
    "# rj across, ri down\n",
    "rs_from = np.tile(y[:n], (n,1,1))\n",
    "\n",
    "# ri across, rj down\n",
    "rs_to = np.transpose(rs_from, axes=(1,0,2))\n",
    "\n",
    "dr = rs_to - rs_from\n",
    "print \"From\"\n",
    "print rs_from\n",
    "print \"To\"\n",
    "print rs_to\n",
    "print \"Dr\"\n",
    "print dr"
   ]
  },
  {
   "cell_type": "code",
   "execution_count": 82,
   "metadata": {
    "collapsed": false
   },
   "outputs": [
    {
     "ename": "ValueError",
     "evalue": "total size of new array must be unchanged",
     "output_type": "error",
     "traceback": [
      "\u001b[0;31m---------------------------------------------------------------------------\u001b[0m",
      "\u001b[0;31mValueError\u001b[0m                                Traceback (most recent call last)",
      "\u001b[0;32m<ipython-input-82-6c2c02937e56>\u001b[0m in \u001b[0;36m<module>\u001b[0;34m()\u001b[0m\n\u001b[0;32m----> 1\u001b[0;31m \u001b[0mnd_identity\u001b[0m \u001b[0;34m=\u001b[0m \u001b[0mnp\u001b[0m\u001b[0;34m.\u001b[0m\u001b[0meye\u001b[0m\u001b[0;34m(\u001b[0m\u001b[0mn\u001b[0m\u001b[0;34m)\u001b[0m\u001b[0;34m.\u001b[0m\u001b[0mreshape\u001b[0m\u001b[0;34m(\u001b[0m\u001b[0;34m(\u001b[0m\u001b[0mn\u001b[0m\u001b[0;34m,\u001b[0m\u001b[0mn\u001b[0m\u001b[0;34m,\u001b[0m\u001b[0md\u001b[0m\u001b[0;34m)\u001b[0m\u001b[0;34m)\u001b[0m\u001b[0;34m\u001b[0m\u001b[0m\n\u001b[0m\u001b[1;32m      2\u001b[0m \u001b[0mdrmag\u001b[0m \u001b[0;34m=\u001b[0m \u001b[0mnp\u001b[0m\u001b[0;34m.\u001b[0m\u001b[0mmasked\u001b[0m\u001b[0;34m(\u001b[0m\u001b[0mnp\u001b[0m\u001b[0;34m.\u001b[0m\u001b[0msqrt\u001b[0m\u001b[0;34m(\u001b[0m\u001b[0mnp\u001b[0m\u001b[0;34m.\u001b[0m\u001b[0msum\u001b[0m\u001b[0;34m(\u001b[0m\u001b[0mnp\u001b[0m\u001b[0;34m.\u001b[0m\u001b[0mpower\u001b[0m\u001b[0;34m(\u001b[0m\u001b[0mdr\u001b[0m\u001b[0;34m,\u001b[0m \u001b[0;36m2\u001b[0m\u001b[0;34m)\u001b[0m\u001b[0;34m,\u001b[0m \u001b[0;36m2\u001b[0m\u001b[0;34m)\u001b[0m\u001b[0;34m)\u001b[0m\u001b[0;34m,\u001b[0m \u001b[0mnd_identity\u001b[0m\u001b[0;34m)\u001b[0m\u001b[0;34m\u001b[0m\u001b[0m\n\u001b[1;32m      3\u001b[0m \u001b[0mdrmag\u001b[0m\u001b[0;34m\u001b[0m\u001b[0m\n",
      "\u001b[0;31mValueError\u001b[0m: total size of new array must be unchanged"
     ]
    }
   ],
   "source": [
    "nd_identity = np.eye(n).reshape((n,n,d))"
   ]
  },
  {
   "cell_type": "code",
   "execution_count": 83,
   "metadata": {
    "collapsed": false
   },
   "outputs": [
    {
     "data": {
      "text/plain": [
       "array([1, 2])"
      ]
     },
     "execution_count": 83,
     "metadata": {},
     "output_type": "execute_result"
    }
   ],
   "source": [
    "q = np.arange(n)+1; q"
   ]
  },
  {
   "cell_type": "code",
   "execution_count": 62,
   "metadata": {
    "collapsed": false
   },
   "outputs": [
    {
     "data": {
      "text/plain": [
       "array([[1, 2],\n",
       "       [1, 2]])"
      ]
     },
     "execution_count": 62,
     "metadata": {},
     "output_type": "execute_result"
    }
   ],
   "source": [
    "qsa = np.tile(q, (n,1))\n",
    "qsb = np.tile(q, (n,1)).T\n",
    "qsa"
   ]
  },
  {
   "cell_type": "code",
   "execution_count": 63,
   "metadata": {
    "collapsed": false
   },
   "outputs": [
    {
     "data": {
      "text/plain": [
       "array([[1, 1],\n",
       "       [2, 2]])"
      ]
     },
     "execution_count": 63,
     "metadata": {},
     "output_type": "execute_result"
    }
   ],
   "source": [
    "qsb"
   ]
  },
  {
   "cell_type": "code",
   "execution_count": 71,
   "metadata": {
    "collapsed": false
   },
   "outputs": [
    {
     "data": {
      "text/plain": [
       "array([[[ 0.,  0.],\n",
       "        [ 6.,  6.]],\n",
       "\n",
       "       [[-6., -6.],\n",
       "        [ 0.,  0.]]])"
      ]
     },
     "execution_count": 71,
     "metadata": {},
     "output_type": "execute_result"
    }
   ],
   "source": [
    "dr"
   ]
  },
  {
   "cell_type": "code",
   "execution_count": null,
   "metadata": {
    "collapsed": true
   },
   "outputs": [],
   "source": [
    "Fnet = np.sum(Fs, 1)\n",
    "a = Fnet/m\n",
    "\n",
    "y[:n] = y[n:]\n",
    "y[n:] = a"
   ]
  }
 ],
 "metadata": {
  "kernelspec": {
   "display_name": "Python 2",
   "language": "python",
   "name": "python2"
  },
  "language_info": {
   "codemirror_mode": {
    "name": "ipython",
    "version": 2
   },
   "file_extension": ".py",
   "mimetype": "text/x-python",
   "name": "python",
   "nbconvert_exporter": "python",
   "pygments_lexer": "ipython2",
   "version": "2.7.10"
  }
 },
 "nbformat": 4,
 "nbformat_minor": 2
}
