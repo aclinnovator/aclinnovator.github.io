{
 "cells": [
  {
   "cell_type": "markdown",
   "metadata": {},
   "source": [
    "I'll try to see if there is anything phenomenologically different between a deterministic cellular automaton and a stochastic model of this cellular automaton. Specifically, I will try to see if the information entropy in the cellular automaton is less than the entropy of a random process traied on the cellular automaton. \n",
    "\n",
    "The automaton will be a 2-lag autoregressive model but the stochastic process will be trained on only the previous timepoint. I will try for theoretical results before the computational component comes in.\n",
    "\n",
    "Discrete dynamical systems are fun to study because there is less of an analytical overhead one needs to worry about and thus the entire system is technically at your level of comprehension. In contrast, continuous systems require a bit more knowledge for saying anything useful about them.\n",
    "\n",
    "Our ansatz is the canonical and abstractly formulated two lag discrete system indexed by the natural numbers.  \n",
    "\n",
    "$$s_{t+1} = \\sigma(s_{t}, s_{t-1})$$\n",
    "\n",
    "we can interpret of this as defining an at most countable set of states $S$ where $S = \\{s_t: t\\in N^+\\}$. \n",
    "\n"
   ]
  },
  {
   "cell_type": "code",
   "execution_count": null,
   "metadata": {
    "collapsed": true
   },
   "outputs": [],
   "source": []
  }
 ],
 "metadata": {
  "kernelspec": {
   "display_name": "Python 2",
   "language": "python",
   "name": "python2"
  },
  "language_info": {
   "codemirror_mode": {
    "name": "ipython",
    "version": 2
   },
   "file_extension": ".py",
   "mimetype": "text/x-python",
   "name": "python",
   "nbconvert_exporter": "python",
   "pygments_lexer": "ipython2",
   "version": "2.7.13"
  }
 },
 "nbformat": 4,
 "nbformat_minor": 2
}
