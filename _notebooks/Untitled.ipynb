{
 "cells": [
  {
   "cell_type": "code",
   "execution_count": 199,
   "metadata": {
    "collapsed": false
   },
   "outputs": [
    {
     "name": "stderr",
     "output_type": "stream",
     "text": [
      "/Library/Python/2.7/site-packages/ipykernel/__main__.py:58: RuntimeWarning: divide by zero encountered in divide\n"
     ]
    }
   ],
   "source": [
    "import numpy as np\n",
    "from scipy.integrate import odeint\n",
    "mag = lambda r: np.sqrt(np.sum(np.power(r, 2)))\n",
    "# The electric constant \n",
    "# k=1/(4*pi*epsilon_naught)\n",
    "# Right now we will set it to 1\n",
    "# because until we choose realistic values for qs (which are very low)\n",
    "# k*q is too large a number and causes roundoff errors in the integrator. \n",
    "# k = 8.99*10**9\n",
    "k=1\n",
    "def g(y, t, q, m, n,d, k):\n",
    "    \"\"\"\n",
    "    n: the number of particles\n",
    "    d: the number of dimensions (for fun's sake I want this to work for k-dimensional systems)\n",
    "    y: an (n*2,d) dimensional matrix where y[:n]_i is the position of the ith particle and\n",
    "    y[n:]_i is the velocity of the ith particle\n",
    "    qs: the particle charges\n",
    "    ms: the particle masses\n",
    "    k: the electric constant\n",
    "    t: the current timestamp\n",
    "    \"\"\"\n",
    "\n",
    "    \n",
    "    y = y.reshape((n*2,d))\n",
    "    v = y[n:]\n",
    "    test_r1, test_r2, test_dr1dt, test_dr2dt= y\n",
    "    test_F = 1/np.power(mag(test_r2-test_r1),2)\n",
    "\n",
    "    test_y = np.array([\n",
    "     test_r1, \n",
    "     test_r2,\n",
    "     (test_F)*(test_r1-test_r2),\n",
    "     (test_F)*(test_r2-test_r1),\n",
    "    ])\n",
    "\n",
    "    # rj across, ri down\n",
    "    rs_from = np.tile(y[:n], (n,1,1))\n",
    "    \n",
    "    # ri across, rj down\n",
    "    rs_to = np.transpose(rs_from, axes=(1,0,2))\n",
    "\n",
    "    # directional distance between each r_i and r_j\n",
    "    # dr_ij is the force from j onto i, i.e. r_i - r_j\n",
    "    dr = rs_to - rs_from\n",
    "    \n",
    "    # Used as a mask\n",
    "    nd_identity = np.eye(n).reshape((n,n,1))\n",
    "    \n",
    "    # Force magnitudes\n",
    "    drmag = ma.array(np.sqrt(np.sum(np.power(dr, 2), 2)), mask=nd_identity)\n",
    "\n",
    "    # Pairwise q_i*q_j for force equation\n",
    "    qsa = np.tile(q, (n,1))\n",
    "    qsb = np.tile(q, (n,1)).T\n",
    "    qs = qsa*qsb\n",
    "    \n",
    "    # Directional forces\n",
    "    Fs = (1./np.power(drmag,2)).reshape((n,n,1))\n",
    "    \n",
    "    # Net Force\n",
    "    Fnet = np.sum(Fs, 1)\n",
    "    \n",
    "    # Dividing by m to obtain acceleration vectors\n",
    "    a = np.sum(Fnet*dr, 1)\n",
    "#     print test_F\n",
    "#     print \"@@@@@@@@@@\"\n",
    "#     print Fnet\n",
    "#     print \"+++++\"\n",
    "#     print np.sum(a,1)\n",
    "#     print \"+++++++\"\n",
    "#     print test_y\n",
    "#     print \"_------------_\"\n",
    "    \n",
    "    # Sliding integrated acceleration to the position derivative slot\n",
    "    y[:n] = np.array(y[n:])\n",
    "    \n",
    "    # Entering the acceleration into the velocity slot\n",
    "    y[n:] = np.array(a)\n",
    " \n",
    "    # Flattening it out for scipy.odeint to work\n",
    "    return test_y.flatten()\n",
    "\n",
    "t_f = 2\n",
    "t = np.linspace(0, 20, num=t_f)\n",
    "r1i = np.array([-2., 0.5])\n",
    "dr1dti = np.array([2.,0.])\n",
    "\n",
    "r2i = np.array([30.,0.])\n",
    "dr2dti = np.array([-2., 0.])\n",
    "y0 = np.array([r1i, r2i, dr1dti, dr2dti]).flatten()\n",
    "\n",
    "# Number of dimensions\n",
    "d = 2\n",
    "# Number of point charges\n",
    "n = 2\n",
    "# charge magnitudes\n",
    "q = np.ones(n)\n",
    "# masses\n",
    "m = np.ones(n)\n",
    "\n",
    "# Doing the integration\n",
    "y = odeint(g, y0, t, args=(q,m,n,d,k)).reshape(t_f,n*n,d)"
   ]
  },
  {
   "cell_type": "code",
   "execution_count": 200,
   "metadata": {
    "collapsed": false
   },
   "outputs": [],
   "source": [
    "%matplotlib qt\n",
    "import matplotlib.pyplot as plt\n",
    "from mpl_toolkits.mplot3d import Axes3D\n",
    "\n",
    "fig = plt.figure()\n",
    "#ax = fig.add_subplot(111, projection='3d')\n",
    "ax = fig.add_subplot(111)\n",
    "ys1 = y[:,0,1]\n",
    "xs1 = y[:,0,0]\n",
    "\n",
    "xs2 = y[:,2,0]\n",
    "ys2 = y[:,2,1]\n",
    "\n",
    "\"\"\"\n",
    "ax.plot(xs1[:1], ys1[:1], t[:1],'bv')\n",
    "ax.plot(xs1[-1:], ys1[-1:], t[-1:], 'rv')\n",
    "ax.plot(xs2[:1], ys2[:1], t[:1], 'bv')\n",
    "ax.plot(xs2[-1:], ys2[-1:], t[-1:], 'rv')\n",
    "\n",
    "ax.plot(xs3[:1], ys3[:1], t[:1], 'bv')\n",
    "ax.plot(xs3[-1:], ys3[-1:], t[-1:], 'rv')\n",
    "\n",
    "ax.plot(xs1, ys1, t)\n",
    "ax.plot(xs2, ys2, t)\n",
    "ax.plot(xs3, ys3, t)\n",
    "\"\"\"\n",
    "\n",
    "\n",
    "\n",
    "ax.plot(xs1[:1], ys1[:1],'bv')     \n",
    "ax.plot(xs1[-1:], ys1[-1:], 'rv') \n",
    "ax.plot(xs2[:1], ys2[:1], 'bv')    \n",
    "ax.plot(xs2[-1:], ys2[-1:], 'rv') \n",
    "\n",
    "minx = np.min(y[:,[0,2],0]) \n",
    "maxx = np.max(y[:,[0,2],0]) \n",
    "\n",
    "miny = np.min(y[:,[0,2],1]) \n",
    "maxy = np.max(y[:,[0,2],1])\n",
    "\n",
    "                                         \n",
    "ax.plot(xs1, ys1)                      \n",
    "ax.plot(xs2, ys2)                      \n",
    "\n",
    "plt.xlim(xmin=minx, xmax=maxx)\n",
    "plt.ylim(ymin=miny, ymax=maxy)\n",
    "\n",
    "plt.show()\n"
   ]
  },
  {
   "cell_type": "code",
   "execution_count": 161,
   "metadata": {
    "collapsed": false
   },
   "outputs": [
    {
     "data": {
      "text/plain": [
       "array([ 2. ,  3. , -4. , -4. , -8. ,  3. , -5. ,  0.2])"
      ]
     },
     "execution_count": 161,
     "metadata": {},
     "output_type": "execute_result"
    }
   ],
   "source": [
    "import numpy.ma as ma\n",
    "Y = np.array([\n",
    "        [2.,3.],[-4.,-4.], # First n are positions\n",
    "        [-8.,3.],[-5.,0.2] # Last n are velocities\n",
    "    ])\n",
    "\n",
    "y = Y.flatten()\n",
    "y"
   ]
  },
  {
   "cell_type": "code",
   "execution_count": 139,
   "metadata": {
    "collapsed": false
   },
   "outputs": [
    {
     "data": {
      "text/plain": [
       "array([[ True,  True],\n",
       "       [ True,  True],\n",
       "       [ True,  True],\n",
       "       [ True,  True]], dtype=bool)"
      ]
     },
     "execution_count": 139,
     "metadata": {},
     "output_type": "execute_result"
    }
   ],
   "source": [
    "n = 2\n",
    "d = 2\n",
    "y = y.reshape((n*2,d))\n",
    "y == Y"
   ]
  },
  {
   "cell_type": "code",
   "execution_count": 140,
   "metadata": {
    "collapsed": false
   },
   "outputs": [
    {
     "name": "stdout",
     "output_type": "stream",
     "text": [
      "Velocities\n",
      "[[-8.   3. ]\n",
      " [-5.   0.2]]\n",
      "Positions\n",
      "[[ 2.  3.]\n",
      " [-4. -4.]]\n"
     ]
    }
   ],
   "source": [
    "v = y[n:]\n",
    "r = y[:n]\n",
    "print \"Velocities\"\n",
    "print v\n",
    "print \"Positions\"\n",
    "print r"
   ]
  },
  {
   "cell_type": "code",
   "execution_count": 141,
   "metadata": {
    "collapsed": false
   },
   "outputs": [
    {
     "name": "stdout",
     "output_type": "stream",
     "text": [
      "From\n",
      "[[[ 2.  3.]\n",
      "  [-4. -4.]]\n",
      "\n",
      " [[ 2.  3.]\n",
      "  [-4. -4.]]]\n",
      "To\n",
      "[[[ 2.  3.]\n",
      "  [ 2.  3.]]\n",
      "\n",
      " [[-4. -4.]\n",
      "  [-4. -4.]]]\n",
      "Dr\n",
      "[[[ 0.  0.]\n",
      "  [ 6.  7.]]\n",
      "\n",
      " [[-6. -7.]\n",
      "  [ 0.  0.]]]\n"
     ]
    }
   ],
   "source": [
    "# rj across, ri down\n",
    "rs_from = np.tile(y[:n], (n,1,1))\n",
    "\n",
    "# ri across, rj down\n",
    "rs_to = np.transpose(rs_from, axes=(1,0,2))\n",
    "\n",
    "dr = rs_to - rs_from\n",
    "print \"From\"\n",
    "print rs_from\n",
    "print \"To\"\n",
    "print rs_to\n",
    "print \"Dr\"\n",
    "print dr"
   ]
  },
  {
   "cell_type": "code",
   "execution_count": 142,
   "metadata": {
    "collapsed": false
   },
   "outputs": [],
   "source": [
    "nd_identity = np.eye(n).reshape((n,n,1))"
   ]
  },
  {
   "cell_type": "code",
   "execution_count": 143,
   "metadata": {
    "collapsed": false
   },
   "outputs": [
    {
     "data": {
      "text/plain": [
       "masked_array(data =\n",
       " [[-- 9.219544457292887]\n",
       " [9.219544457292887 --]],\n",
       "             mask =\n",
       " [[ True False]\n",
       " [False  True]],\n",
       "       fill_value = 1e+20)"
      ]
     },
     "execution_count": 143,
     "metadata": {},
     "output_type": "execute_result"
    }
   ],
   "source": [
    "drmag = ma.array(np.sqrt(np.sum(np.power(dr, 2), 2)), mask=nd_identity)\n",
    "drmag"
   ]
  },
  {
   "cell_type": "code",
   "execution_count": 144,
   "metadata": {
    "collapsed": false
   },
   "outputs": [
    {
     "data": {
      "text/plain": [
       "array([1, 1])"
      ]
     },
     "execution_count": 144,
     "metadata": {},
     "output_type": "execute_result"
    }
   ],
   "source": [
    "q = np.arange(n)*0+1; q"
   ]
  },
  {
   "cell_type": "code",
   "execution_count": 145,
   "metadata": {
    "collapsed": false
   },
   "outputs": [
    {
     "data": {
      "text/plain": [
       "array([[1, 1],\n",
       "       [1, 1]])"
      ]
     },
     "execution_count": 145,
     "metadata": {},
     "output_type": "execute_result"
    }
   ],
   "source": [
    "qsa = np.tile(q, (n,1))\n",
    "qsb = np.tile(q, (n,1)).T\n",
    "qs = qsa*qsb\n",
    "qs"
   ]
  },
  {
   "cell_type": "code",
   "execution_count": 146,
   "metadata": {
    "collapsed": false
   },
   "outputs": [
    {
     "name": "stderr",
     "output_type": "stream",
     "text": [
      "/Library/Python/2.7/site-packages/ipykernel/__main__.py:1: RuntimeWarning: divide by zero encountered in divide\n",
      "  if __name__ == '__main__':\n"
     ]
    },
    {
     "data": {
      "text/plain": [
       "masked_array(data =\n",
       " [[[-- --]\n",
       "  [0.6507913734559685 0.7592566023652966]]\n",
       "\n",
       " [[-0.6507913734559685 -0.7592566023652966]\n",
       "  [-- --]]],\n",
       "             mask =\n",
       " [[[ True  True]\n",
       "  [False False]]\n",
       "\n",
       " [[False False]\n",
       "  [ True  True]]],\n",
       "       fill_value = 1e+20)"
      ]
     },
     "execution_count": 146,
     "metadata": {},
     "output_type": "execute_result"
    }
   ],
   "source": [
    "Fs = (qs/drmag).reshape((n,n,1))*dr\n",
    "Fs"
   ]
  },
  {
   "cell_type": "code",
   "execution_count": 147,
   "metadata": {
    "collapsed": false
   },
   "outputs": [],
   "source": [
    "Fnet = np.sum(Fs, 1)"
   ]
  },
  {
   "cell_type": "code",
   "execution_count": 152,
   "metadata": {
    "collapsed": false
   },
   "outputs": [
    {
     "data": {
      "text/plain": [
       "array([[ 0.65079137,  0.7592566 ],\n",
       "       [-0.65079137, -0.7592566 ]])"
      ]
     },
     "execution_count": 152,
     "metadata": {},
     "output_type": "execute_result"
    }
   ],
   "source": [
    "a = Fnet/m\n",
    "np.array(a)"
   ]
  },
  {
   "cell_type": "code",
   "execution_count": 156,
   "metadata": {
    "collapsed": false
   },
   "outputs": [
    {
     "ename": "ValueError",
     "evalue": "could not broadcast input array from shape (8,4,2) into shape (2,2)",
     "output_type": "error",
     "traceback": [
      "\u001b[0;31m---------------------------------------------------------------------------\u001b[0m",
      "\u001b[0;31mValueError\u001b[0m                                Traceback (most recent call last)",
      "\u001b[0;32m<ipython-input-156-cf58866101d0>\u001b[0m in \u001b[0;36m<module>\u001b[0;34m()\u001b[0m\n\u001b[0;32m----> 1\u001b[0;31m \u001b[0mY\u001b[0m\u001b[0;34m[\u001b[0m\u001b[0;34m:\u001b[0m\u001b[0mn\u001b[0m\u001b[0;34m]\u001b[0m \u001b[0;34m=\u001b[0m \u001b[0my\u001b[0m\u001b[0;34m[\u001b[0m\u001b[0mn\u001b[0m\u001b[0;34m:\u001b[0m\u001b[0;34m]\u001b[0m\u001b[0;34m\u001b[0m\u001b[0m\n\u001b[0m\u001b[1;32m      2\u001b[0m \u001b[0mY\u001b[0m\u001b[0;34m[\u001b[0m\u001b[0mn\u001b[0m\u001b[0;34m:\u001b[0m\u001b[0;34m]\u001b[0m \u001b[0;34m=\u001b[0m \u001b[0ma\u001b[0m\u001b[0;34m\u001b[0m\u001b[0m\n",
      "\u001b[0;31mValueError\u001b[0m: could not broadcast input array from shape (8,4,2) into shape (2,2)"
     ]
    }
   ],
   "source": [
    "Y[:n] = y[n:]\n",
    "Y[n:] = a"
   ]
  },
  {
   "cell_type": "code",
   "execution_count": null,
   "metadata": {
    "collapsed": true
   },
   "outputs": [],
   "source": []
  }
 ],
 "metadata": {
  "kernelspec": {
   "display_name": "Python 2",
   "language": "python",
   "name": "python2"
  },
  "language_info": {
   "codemirror_mode": {
    "name": "ipython",
    "version": 2
   },
   "file_extension": ".py",
   "mimetype": "text/x-python",
   "name": "python",
   "nbconvert_exporter": "python",
   "pygments_lexer": "ipython2",
   "version": "2.7.10"
  }
 },
 "nbformat": 4,
 "nbformat_minor": 2
}
